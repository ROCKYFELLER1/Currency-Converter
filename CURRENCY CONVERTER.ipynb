{
 "cells": [
  {
   "cell_type": "code",
   "execution_count": 1,
   "id": "e8647ca2",
   "metadata": {},
   "outputs": [
    {
     "name": "stdout",
     "output_type": "stream",
     "text": [
      "convert from: USD\n",
      "convert to: NAIRA\n",
      "value of currency in USD: 300\n",
      "135150.0\n"
     ]
    }
   ],
   "source": [
    "currency = ['USD', 'POUNDS', 'EURO', 'YEN', 'CEDIS', 'DINAR', 'NAIRA']\n",
    "valCurrency = ''\n",
    "\n",
    "def currConvert(valCurrency):\n",
    "    res = ''\n",
    "    firstCurr = input(f'convert from: ')\n",
    "    secondCurr = input(f'convert to: ')\n",
    "    valCurrency = float(input(f'value of currency in {firstCurr}: '))\n",
    "    if (firstCurr, secondCurr) == ('USD', 'NAIRA'):\n",
    "        res = 450.50 * float(valCurrency)\n",
    "    elif (firstCurr, secondCurr) == ('NAIRA', 'USD'):\n",
    "        res = float(valCurrency)/450.50\n",
    "    elif (firstCurr, secondCurr) == ('USD', 'EURO'):\n",
    "        res = 0.94 * float(valCurrency)\n",
    "    elif (firstCurr, secondCurr) == ('EURO', 'USD'):\n",
    "        res = float(valCurrency)/0.94\n",
    "        \n",
    "        print('your exchange in', secondCurr, 'is:', res)\n",
    "    return res\n",
    "    \n",
    "        \n",
    "con = currConvert(valCurrency)\n",
    "print(con)"
   ]
  },
  {
   "cell_type": "code",
   "execution_count": null,
   "id": "29fca1c8",
   "metadata": {},
   "outputs": [],
   "source": []
  },
  {
   "cell_type": "code",
   "execution_count": null,
   "id": "f53cad4f",
   "metadata": {},
   "outputs": [],
   "source": []
  }
 ],
 "metadata": {
  "kernelspec": {
   "display_name": "Python 3 (ipykernel)",
   "language": "python",
   "name": "python3"
  },
  "language_info": {
   "codemirror_mode": {
    "name": "ipython",
    "version": 3
   },
   "file_extension": ".py",
   "mimetype": "text/x-python",
   "name": "python",
   "nbconvert_exporter": "python",
   "pygments_lexer": "ipython3",
   "version": "3.9.12"
  }
 },
 "nbformat": 4,
 "nbformat_minor": 5
}
